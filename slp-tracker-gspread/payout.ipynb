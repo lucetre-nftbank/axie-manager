{
 "cells": [
  {
   "cell_type": "code",
   "execution_count": 3,
   "metadata": {},
   "outputs": [],
   "source": [
    "import json\n",
    "import requests"
   ]
  },
  {
   "cell_type": "code",
   "execution_count": 16,
   "metadata": {},
   "outputs": [
    {
     "data": {
      "text/plain": [
       "{'id': '7999bef2-6916-4c7f-8aeb-feaff6d2996b',\n",
       " 'from_addr': 'ronin:26e62431d41da1205774473f922d3873ebb1c174',\n",
       " 'to_addr': 'ronin:199ff241c3d91b1090b43182561173dc38afe745',\n",
       " 'token_type': 'SLP',\n",
       " 'amount': 1,\n",
       " 'history': ['2022-01-17T12:29:26.032Z'],\n",
       " 'status': 1}"
      ]
     },
     "execution_count": 16,
     "metadata": {},
     "output_type": "execute_result"
    }
   ],
   "source": [
    "body = {\n",
    "  \"from_addr\" : \"ronin:46e62431d41da1205774473f922d3873ebb1c174\",\n",
    "  \"to_addr\" : \"ronin:199ff241c3d91b1090b43182561173dc38afe745\",\n",
    "  \"token_type\" : \"SLP\",\n",
    "  \"amount\" : 1\n",
    "}\n",
    "response = requests.post(\"http://localhost:3000/payout/new\", json=body)\n",
    "json.loads(response.text)"
   ]
  }
 ],
 "metadata": {
  "interpreter": {
   "hash": "aee8b7b246df8f9039afb4144a1f6fd8d2ca17a180786b69acc140d282b71a49"
  },
  "kernelspec": {
   "display_name": "Python 3.9.9 64-bit",
   "language": "python",
   "name": "python3"
  },
  "language_info": {
   "codemirror_mode": {
    "name": "ipython",
    "version": 3
   },
   "file_extension": ".py",
   "mimetype": "text/x-python",
   "name": "python",
   "nbconvert_exporter": "python",
   "pygments_lexer": "ipython3",
   "version": "3.9.9"
  },
  "orig_nbformat": 4
 },
 "nbformat": 4,
 "nbformat_minor": 2
}
