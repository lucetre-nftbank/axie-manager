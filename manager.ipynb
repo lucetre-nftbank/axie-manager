{
 "cells": [
  {
   "cell_type": "markdown",
   "metadata": {},
   "source": [
    "### SAXIE Bot"
   ]
  },
  {
   "cell_type": "code",
   "execution_count": 39,
   "metadata": {},
   "outputs": [],
   "source": [
    "import requests\n",
    "import json\n",
    "from datetime import datetime"
   ]
  },
  {
   "cell_type": "code",
   "execution_count": 155,
   "metadata": {},
   "outputs": [],
   "source": [
    "class AxieCriterion:\n",
    "    def __init__(self, query):\n",
    "        url, params = query.split('?')\n",
    "        classes = []\n",
    "        parts = []\n",
    "        speeds = []\n",
    "        for param in params.split('&'):\n",
    "            attr, val = param.split('=')\n",
    "            if attr == 'class':\n",
    "                classes.append(val)\n",
    "            elif attr == 'part':\n",
    "                parts.append(val)\n",
    "            elif attr == 'speed':\n",
    "                speeds.append(int(val))\n",
    "        speeds = sorted(speeds)\n",
    "        \n",
    "        self.body = {\n",
    "            \"operationName\": \"GetAxieBriefList\",\n",
    "            \"query\": \"query GetAxieBriefList($auctionType: AuctionType, $criteria: AxieSearchCriteria, $from: Int, $sort: SortBy, $size: Int, $owner: String, $filterStuckAuctions: Boolean) {\\n  axies(\\n    auctionType: $auctionType\\n    criteria: $criteria\\n    from: $from\\n    sort: $sort\\n    size: $size\\n    owner: $owner\\n    filterStuckAuctions: $filterStuckAuctions\\n  ) {\\n    total\\n    results {\\n      ...AxieBrief\\n      __typename\\n    }\\n    __typename\\n  }\\n}\\n\\nfragment AxieBrief on Axie {\\n  id\\n  name\\n  stage\\n  class\\n  breedCount\\n  image\\n  title\\n  battleInfo {\\n    banned\\n    __typename\\n  }\\n  auction {\\n    currentPrice\\n    currentPriceUSD\\n    __typename\\n  }\\n  parts {\\n    id\\n    name\\n    class\\n    type\\n    specialGenes\\n    __typename\\n  }\\n  __typename\\n}\\n\",\n",
    "            \"variables\": {\n",
    "                \"auctionType\": \"Sale\",\n",
    "                \"criteria\": {\n",
    "                    \"bodyShapes\": None,\n",
    "                    \"breedable\": None,\n",
    "                    \"breedCount\": None,\n",
    "                    \"classes\": classes,\n",
    "                    \"hp\": [],\n",
    "                    \"morale\": [],\n",
    "                    \"numJapan\": None,\n",
    "                    \"numMystic\": None,\n",
    "                    \"numXmas\": None,\n",
    "                    \"parts\": parts,\n",
    "                    \"pureness\": None,\n",
    "                    \"purity\": [],\n",
    "                    \"region\": None,\n",
    "                    \"skill\": [],\n",
    "                    \"speed\": [\n",
    "                        speeds[0],\n",
    "                        speeds[-1]\n",
    "                    ],\n",
    "                    \"stages\": None,\n",
    "                    \"title\": None\n",
    "                },\n",
    "                \"filterStuckAuctions\": True,\n",
    "                \"from\": 0,\n",
    "                \"owner\": None,\n",
    "                \"size\": 24,\n",
    "                \"sort\": \"PriceAsc\"\n",
    "            }\n",
    "        }\n",
    "        \n",
    "    def marketplace(self):\n",
    "        r = requests.post(\"https://graphql-gateway.axieinfinity.com/graphql\", json=self.body)\n",
    "        data = json.loads(r.text)['data']['axies']\n",
    "        return data"
   ]
  },
  {
   "cell_type": "code",
   "execution_count": 190,
   "metadata": {},
   "outputs": [
    {
     "data": {
      "text/plain": [
       "3367.23"
      ]
     },
     "execution_count": 190,
     "metadata": {},
     "output_type": "execute_result"
    }
   ],
   "source": [
    "payload = {\n",
    "    \"operationName\": \"NewEthExchangeRate\",\n",
    "    \"query\": \"query NewEthExchangeRate {\\n  exchangeRate {\\n    eth {\\n      usd\\n      __typename\\n    }\\n    __typename\\n  }\\n}\\n\",\n",
    "    \"variables\": {}\n",
    "}\n",
    "r = requests.post(\"https://graphql-gateway.axieinfinity.com/graphql\", json=payload)\n",
    "ethusd = json.loads(r.text)['data']['exchangeRate']['eth']['usd']\n",
    "ethusd"
   ]
  },
  {
   "cell_type": "code",
   "execution_count": 118,
   "metadata": {},
   "outputs": [],
   "source": [
    "def message(query):\n",
    "    ac = AxieCriterion(query)\n",
    "    data = ac.marketplace()\n",
    "    total = data['total']\n",
    "    header = '[Axie Marketplace](https://marketplace.axieinfinity.com/axie/?auctionTypes=Sale)\\n' + f'Total {total} axies - {datetime.now().strftime(\"%d/%m/%Y %H:%M:%S\")}\\n'\n",
    "    header += json.dumps(ac.body['variables'][\"criteria\"])\n",
    "    content = 'Lowest Price List\\n'\n",
    "    for axie in data['results']:\n",
    "        content += f'{axie[\"auction\"][\"currentPrice\"]} {axie[\"id\"]} {axie[\"name\"]}\\n'\n",
    "    return header, content"
   ]
  },
  {
   "cell_type": "code",
   "execution_count": 119,
   "metadata": {},
   "outputs": [
    {
     "name": "stdout",
     "output_type": "stream",
     "text": [
      "[Axie Marketplace](https://marketplace.axieinfinity.com/axie/?auctionTypes=Sale)\n",
      "Total 1892 axies - 06/01/2022 19:24:16\n",
      "{\"bodyShapes\": null, \"breedable\": null, \"breedCount\": null, \"classes\": [\"Bird\"], \"hp\": [], \"morale\": [], \"numJapan\": null, \"numMystic\": null, \"numXmas\": null, \"parts\": [\"mouth-doubletalk\", \"horn-eggshell\", \"back-pigeon-post\", \"tail-post-fight\"], \"pureness\": null, \"purity\": [], \"region\": null, \"skill\": [], \"speed\": [61, 61], \"stages\": null, \"title\": null}\n"
     ]
    }
   ],
   "source": [
    "query = 'https://marketplace.axieinfinity.com/axie/?class=Bird&part=mouth-doubletalk&part=horn-eggshell&part=back-pigeon-post&part=tail-post-fight&speed=61&speed=61&auctionTypes=Sale'\n",
    "header, content = message(query)\n",
    "print(header)"
   ]
  },
  {
   "cell_type": "code",
   "execution_count": 187,
   "metadata": {},
   "outputs": [
    {
     "data": {
      "text/html": [
       "<div>\n",
       "<style scoped>\n",
       "    .dataframe tbody tr th:only-of-type {\n",
       "        vertical-align: middle;\n",
       "    }\n",
       "\n",
       "    .dataframe tbody tr th {\n",
       "        vertical-align: top;\n",
       "    }\n",
       "\n",
       "    .dataframe thead th {\n",
       "        text-align: right;\n",
       "    }\n",
       "</style>\n",
       "<table border=\"1\" class=\"dataframe\">\n",
       "  <thead>\n",
       "    <tr style=\"text-align: right;\">\n",
       "      <th></th>\n",
       "      <th>Timestamp</th>\n",
       "      <th>Price1</th>\n",
       "      <th>Price2</th>\n",
       "      <th>Price3</th>\n",
       "    </tr>\n",
       "  </thead>\n",
       "  <tbody>\n",
       "  </tbody>\n",
       "</table>\n",
       "</div>"
      ],
      "text/plain": [
       "Empty DataFrame\n",
       "Columns: [Timestamp, Price1, Price2, Price3]\n",
       "Index: []"
      ]
     },
     "execution_count": 187,
     "metadata": {},
     "output_type": "execute_result"
    }
   ],
   "source": [
    "import numpy as np\n",
    "import pandas as pd\n",
    "import matplotlib.pyplot as plt\n",
    "import seaborn as sns\n",
    "\n",
    "                     \n",
    "df"
   ]
  },
  {
   "cell_type": "code",
   "execution_count": 188,
   "metadata": {},
   "outputs": [
    {
     "data": {
      "text/html": [
       "<div>\n",
       "<style scoped>\n",
       "    .dataframe tbody tr th:only-of-type {\n",
       "        vertical-align: middle;\n",
       "    }\n",
       "\n",
       "    .dataframe tbody tr th {\n",
       "        vertical-align: top;\n",
       "    }\n",
       "\n",
       "    .dataframe thead th {\n",
       "        text-align: right;\n",
       "    }\n",
       "</style>\n",
       "<table border=\"1\" class=\"dataframe\">\n",
       "  <thead>\n",
       "    <tr style=\"text-align: right;\">\n",
       "      <th></th>\n",
       "      <th>Timestamp</th>\n",
       "      <th>Price1</th>\n",
       "      <th>Price2</th>\n",
       "      <th>Price3</th>\n",
       "    </tr>\n",
       "  </thead>\n",
       "  <tbody>\n",
       "    <tr>\n",
       "      <th>0</th>\n",
       "      <td>2022-01-01</td>\n",
       "      <td>23.0</td>\n",
       "      <td>26.0</td>\n",
       "      <td>23.0</td>\n",
       "    </tr>\n",
       "    <tr>\n",
       "      <th>1</th>\n",
       "      <td>2022-01-02</td>\n",
       "      <td>23.0</td>\n",
       "      <td>26.0</td>\n",
       "      <td>23.0</td>\n",
       "    </tr>\n",
       "  </tbody>\n",
       "</table>\n",
       "</div>"
      ],
      "text/plain": [
       "    Timestamp  Price1  Price2  Price3\n",
       "0  2022-01-01    23.0    26.0    23.0\n",
       "1  2022-01-02    23.0    26.0    23.0"
      ]
     },
     "execution_count": 188,
     "metadata": {},
     "output_type": "execute_result"
    }
   ],
   "source": [
    "df = df.append({'Timestamp':'2022-01-01', 'Price1':23, 'Price2':26, 'Price3':23}, ignore_index=True)\n",
    "df = df.append({'Timestamp':'2022-01-02', 'Price1':21, 'Price2':23, 'Price3':29}, ignore_index=True)\n",
    "df"
   ]
  },
  {
   "cell_type": "code",
   "execution_count": 189,
   "metadata": {},
   "outputs": [
    {
     "data": {
      "text/plain": [
       "([0, 1], <a list of 2 Text xticklabel objects>)"
      ]
     },
     "execution_count": 189,
     "metadata": {},
     "output_type": "execute_result"
    },
    {
     "data": {
      "image/png": "[encoded data removed]",
      "text/plain": [
       "<Figure size 432x288 with 1 Axes>"
      ]
     },
     "metadata": {},
     "output_type": "display_data"
    }
   ],
   "source": [
    "sns.lineplot(x=\"Timestamp\", y=\"Price1\", data=df, marker=\"o\")\n",
    "sns.lineplot(x=\"Timestamp\", y=\"Price2\", data=df, marker=\"o\")\n",
    "sns.lineplot(x=\"Timestamp\", y=\"Price3\", data=df, marker=\"o\")\n",
    "plt.ylabel(\"Price\")\n",
    "plt.xticks(rotation = 25)"
   ]
  },
  {
   "cell_type": "markdown",
   "metadata": {},
   "source": [
    "### Leaderboard\n",
    "- Top 100 rankers' axie id list"
   ]
  },
  {
   "cell_type": "code",
   "execution_count": 117,
   "metadata": {},
   "outputs": [
    {
     "name": "stdout",
     "output_type": "stream",
     "text": [
      "['10326359', '9560215', '9936542', '9975797', '10212879', '8691520', '9595601', '9228862', '9197994', '8359533', '8933004', '9309277', '8287641', '2853502', '6363014', '7094103', '7226302', '10419028', '10368255', '10398491']\n"
     ]
    }
   ],
   "source": [
    "url = 'https://graphql-gateway.axieinfinity.com/graphql'\n",
    "\n",
    "def get_axie_ids(ronin_address):\n",
    "    query_all_axie_ids = {\n",
    "        \"operationName\": \"GetAxieLatest\",\n",
    "        \"variables\": {\n",
    "            'owner': ronin_address\n",
    "        },\n",
    "        \"query\": \"query GetAxieLatest($auctionType: AuctionType, $criteria: AxieSearchCriteria, $from: Int, $sort: SortBy, $size: Int, $owner: String) {\\n  axies(auctionType: $auctionType, criteria: $criteria, from: $from, sort: $sort, size: $size, owner: $owner) {\\n    total\\n    results {\\n      ...AxieRowData\\n      __typename\\n    }\\n    __typename\\n  }\\n}\\n\\nfragment AxieRowData on Axie {\\n  id\\n  image\\n  class\\n  name\\n  genes\\n  owner\\n  class\\n  stage\\n  title\\n  breedCount\\n  level\\n  parts {\\n    ...AxiePart\\n    __typename\\n  }\\n  stats {\\n    ...AxieStats\\n    __typename\\n  }\\n  auction {\\n    ...AxieAuction\\n    __typename\\n  }\\n  __typename\\n}\\n\\nfragment AxiePart on AxiePart {\\n  id\\n  name\\n  class\\n  type\\n  specialGenes\\n  stage\\n  abilities {\\n    ...AxieCardAbility\\n    __typename\\n  }\\n  __typename\\n}\\n\\nfragment AxieCardAbility on AxieCardAbility {\\n  id\\n  name\\n  attack\\n  defense\\n  energy\\n  description\\n  backgroundUrl\\n  effectIconUrl\\n  __typename\\n}\\n\\nfragment AxieStats on AxieStats {\\n  hp\\n  speed\\n  skill\\n  morale\\n  __typename\\n}\\n\\nfragment AxieAuction on Auction {\\n  startingPrice\\n  endingPrice\\n  startingTimestamp\\n  endingTimestamp\\n  duration\\n  timeLeft\\n  currentPrice\\n  currentPriceUSD\\n  suggestedPrice\\n  seller\\n  listingIndex\\n  state\\n  __typename\\n}\\n\"\n",
    "    }\n",
    "    r = requests.post(url, json = query_all_axie_ids)\n",
    "    axies = []\n",
    "    for x in range(0, len(r.json()['data']['axies']['results'])):\n",
    "        axies.append(r.json()['data']['axies']['results'][x]['id'])\n",
    "\n",
    "    return axies\n",
    "print(get_axie_ids('0xcdbf1105d7ef7b3cda9f3875a6141e637d1aefe7'))"
   ]
  },
  {
   "cell_type": "code",
   "execution_count": 126,
   "metadata": {},
   "outputs": [
    {
     "data": {
      "text/plain": [
       "'<form><p>This demo of CORS Anywhere should only be used for development purposes, see <a href=\"https://github.com/Rob--W/cors-anywhere/issues/301\">https://github.com/Rob--W/cors-anywhere/issues/301</a>.<p>To temporarily unlock access to the demo, click on the following button: <input type=\"submit\" value=\"Request temporary access to the demo server\"><input type=\"hidden\" name=\"accessRequest\" value=\"ac8ade7f94cb0c4ffd40211d6cdc71de25d691dd3bf052b818e8c7dba0ff8393\"></form>\\n'"
      ]
     },
     "execution_count": 126,
     "metadata": {},
     "output_type": "execute_result"
    }
   ],
   "source": [
    "response = requests.request(\"GET\", 'https://cors-anywhere.herokuapp.com/https://axie.zone/func/profile_content.php?ron_addr=0x57a0458cf65d2df8bc5c2777f7cdcd91f46afdaa&authtoken=051ad03267022259aa654fe75a6983ec5499347befb13a76f8bd8460e9609ac65d4d7f09671bcaf0cf01900ec84aa5d0907b48cbe95c18354217f0d2b4a13709')\n",
    "response.text\n"
   ]
  },
  {
   "cell_type": "code",
   "execution_count": 124,
   "metadata": {},
   "outputs": [
    {
     "data": {
      "text/html": [
       "<div>\n",
       "<style scoped>\n",
       "    .dataframe tbody tr th:only-of-type {\n",
       "        vertical-align: middle;\n",
       "    }\n",
       "\n",
       "    .dataframe tbody tr th {\n",
       "        vertical-align: top;\n",
       "    }\n",
       "\n",
       "    .dataframe thead th {\n",
       "        text-align: right;\n",
       "    }\n",
       "</style>\n",
       "<table border=\"1\" class=\"dataframe\">\n",
       "  <thead>\n",
       "    <tr style=\"text-align: right;\">\n",
       "      <th></th>\n",
       "      <th>rank</th>\n",
       "      <th>ron_addr</th>\n",
       "      <th>name</th>\n",
       "    </tr>\n",
       "  </thead>\n",
       "  <tbody>\n",
       "    <tr>\n",
       "      <th>0</th>\n",
       "      <td>1</td>\n",
       "      <td>0x1e9a08a3b6b34b435208c478d3a26b4817c89110</td>\n",
       "      <td>Rickyson | KLC</td>\n",
       "    </tr>\n",
       "    <tr>\n",
       "      <th>1</th>\n",
       "      <td>2</td>\n",
       "      <td>0xcdbf1105d7ef7b3cda9f3875a6141e637d1aefe7</td>\n",
       "      <td>METAT8 | twitch.tv/xero_</td>\n",
       "    </tr>\n",
       "    <tr>\n",
       "      <th>2</th>\n",
       "      <td>3</td>\n",
       "      <td>0xa5a2e67b6c70b879806a3eecedfa092109073f8e</td>\n",
       "      <td>Nitthafarm001</td>\n",
       "    </tr>\n",
       "    <tr>\n",
       "      <th>3</th>\n",
       "      <td>4</td>\n",
       "      <td>0x4d977b781816a6ab8c4def6f245cc3ab1be6a29e</td>\n",
       "      <td>Micznutz / GLAxie</td>\n",
       "    </tr>\n",
       "    <tr>\n",
       "      <th>4</th>\n",
       "      <td>5</td>\n",
       "      <td>0x0051463893d80bd2de2dd31f6a74edac96441de5</td>\n",
       "      <td>0kima | TGL</td>\n",
       "    </tr>\n",
       "    <tr>\n",
       "      <th>5</th>\n",
       "      <td>6</td>\n",
       "      <td>0x0e33036753adbb51db74e7fcbf4d9b4a4f37139b</td>\n",
       "      <td>005 - Cr1t. | OG</td>\n",
       "    </tr>\n",
       "    <tr>\n",
       "      <th>6</th>\n",
       "      <td>7</td>\n",
       "      <td>0x529d170c28208875d770d0ab5ab795ae45b71915</td>\n",
       "      <td>Bam</td>\n",
       "    </tr>\n",
       "    <tr>\n",
       "      <th>7</th>\n",
       "      <td>8</td>\n",
       "      <td>0xc74f2fea624111780b82f9ff70358bda932b255e</td>\n",
       "      <td>Krypto G | PLZ</td>\n",
       "    </tr>\n",
       "    <tr>\n",
       "      <th>8</th>\n",
       "      <td>9</td>\n",
       "      <td>0xf148ec489f7f82067beccd5cca0f5334f983f69e</td>\n",
       "      <td>Aciam || Perion</td>\n",
       "    </tr>\n",
       "  </tbody>\n",
       "</table>\n",
       "</div>"
      ],
      "text/plain": [
       "   rank                                    ron_addr                      name\n",
       "0     1  0x1e9a08a3b6b34b435208c478d3a26b4817c89110            Rickyson | KLC\n",
       "1     2  0xcdbf1105d7ef7b3cda9f3875a6141e637d1aefe7  METAT8 | twitch.tv/xero_\n",
       "2     3  0xa5a2e67b6c70b879806a3eecedfa092109073f8e             Nitthafarm001\n",
       "3     4  0x4d977b781816a6ab8c4def6f245cc3ab1be6a29e         Micznutz / GLAxie\n",
       "4     5  0x0051463893d80bd2de2dd31f6a74edac96441de5               0kima | TGL\n",
       "5     6  0x0e33036753adbb51db74e7fcbf4d9b4a4f37139b          005 - Cr1t. | OG\n",
       "6     7  0x529d170c28208875d770d0ab5ab795ae45b71915                       Bam\n",
       "7     8  0xc74f2fea624111780b82f9ff70358bda932b255e            Krypto G | PLZ\n",
       "8     9  0xf148ec489f7f82067beccd5cca0f5334f983f69e           Aciam || Perion"
      ]
     },
     "execution_count": 124,
     "metadata": {},
     "output_type": "execute_result"
    }
   ],
   "source": [
    "from bs4 import BeautifulSoup as bs\n",
    "import pandas as pd\n",
    "import re\n",
    "\n",
    "response = requests.request(\"GET\", 'https://axie.zone/leaderboard')\n",
    "html = response.text\n",
    "trs = bs(html).find_all('tr')\n",
    "leaderboard = []\n",
    "\n",
    "for tr in trs[1:10]:\n",
    "    tds = tr.find_all('td')\n",
    "    rank = int(tds[0].text[1:])\n",
    "    ron_addr = tds[1].find(\"a\")[\"href\"].split('=')[-1]\n",
    "    name = tds[1].text\n",
    "    leaderboard.append([rank, ron_addr, name])\n",
    "    \n",
    "# #     Actual Rank\n",
    "#     dict = get_game_cache(ron_addr)\n",
    "#     if 'rank' in dict.keys():\n",
    "#         print(dict['rank'])\n",
    "#     else:\n",
    "#         print('n/a')\n",
    "    \n",
    "df = pd.DataFrame(leaderboard, columns=['rank', 'ron_addr', 'name'])\n",
    "df"
   ]
  },
  {
   "cell_type": "code",
   "execution_count": 109,
   "metadata": {
    "scrolled": true
   },
   "outputs": [
    {
     "data": {
      "text/plain": [
       "{'data': {'axie1': {'id': '6050811',\n",
       "   'image': 'https://storage.googleapis.com/assets.axieinfinity.com/axies/6050811/axie/axie-full-transparent.png',\n",
       "   'class': 'Plant',\n",
       "   'name': 'Martin',\n",
       "   'genes': '0x300000000b14b3140c8128c80c8308c20ca318c404c328c40cc328ca0c8220c2',\n",
       "   'birthDate': 1631542552,\n",
       "   'bodyShape': 'Normal',\n",
       "   'sireId': 5180658,\n",
       "   'sireClass': 'Plant',\n",
       "   'matronId': 5098049,\n",
       "   'matronClass': 'Plant',\n",
       "   'stage': 4,\n",
       "   'title': '',\n",
       "   'breedCount': 3,\n",
       "   'parts': [{'id': 'eyes-cucumber-slice',\n",
       "     'name': 'Cucumber Slice',\n",
       "     'class': 'Plant',\n",
       "     'type': 'Eyes',\n",
       "     'specialGenes': None,\n",
       "     'stage': 1,\n",
       "     '__typename': 'AxiePart'},\n",
       "    {'id': 'ears-hollow',\n",
       "     'name': 'Hollow',\n",
       "     'class': 'Plant',\n",
       "     'type': 'Ears',\n",
       "     'specialGenes': None,\n",
       "     'stage': 1,\n",
       "     '__typename': 'AxiePart'},\n",
       "    {'id': 'back-pumpkin',\n",
       "     'name': 'Pumpkin',\n",
       "     'class': 'Plant',\n",
       "     'type': 'Back',\n",
       "     'specialGenes': None,\n",
       "     'stage': 1,\n",
       "     '__typename': 'AxiePart'},\n",
       "    {'id': 'mouth-herbivore',\n",
       "     'name': 'Herbivore',\n",
       "     'class': 'Plant',\n",
       "     'type': 'Mouth',\n",
       "     'specialGenes': None,\n",
       "     'stage': 1,\n",
       "     '__typename': 'AxiePart'},\n",
       "    {'id': 'horn-leaf-bug',\n",
       "     'name': 'Leaf Bug',\n",
       "     'class': 'Bug',\n",
       "     'type': 'Horn',\n",
       "     'specialGenes': None,\n",
       "     'stage': 1,\n",
       "     '__typename': 'AxiePart'},\n",
       "    {'id': 'tail-yam',\n",
       "     'name': 'Yam',\n",
       "     'class': 'Plant',\n",
       "     'type': 'Tail',\n",
       "     'specialGenes': None,\n",
       "     'stage': 1,\n",
       "     '__typename': 'AxiePart'}],\n",
       "   'stats': {'hp': 59,\n",
       "    'speed': 31,\n",
       "    'skill': 31,\n",
       "    'morale': 43,\n",
       "    '__typename': 'AxieStats'},\n",
       "   'children': [{'id': '6512348',\n",
       "     'name': '10a',\n",
       "     'class': 'Plant',\n",
       "     'image': 'https://storage.googleapis.com/assets.axieinfinity.com/axies/6512348/axie/axie-full-transparent.png',\n",
       "     'title': '',\n",
       "     'stage': 4,\n",
       "     '__typename': 'Axie'},\n",
       "    {'id': '6512250',\n",
       "     'name': '10b',\n",
       "     'class': 'Plant',\n",
       "     'image': 'https://storage.googleapis.com/assets.axieinfinity.com/axies/6512250/axie/axie-full-transparent.png',\n",
       "     'title': '',\n",
       "     'stage': 4,\n",
       "     '__typename': 'Axie'},\n",
       "    {'id': '6512208',\n",
       "     'name': '10c',\n",
       "     'class': 'Plant',\n",
       "     'image': 'https://storage.googleapis.com/assets.axieinfinity.com/axies/6512208/axie/axie-full-transparent.png',\n",
       "     'title': '',\n",
       "     'stage': 4,\n",
       "     '__typename': 'Axie'}],\n",
       "   '__typename': 'Axie'},\n",
       "  'axie2': {'id': '6850043',\n",
       "   'image': 'https://storage.googleapis.com/assets.axieinfinity.com/axies/6850043/axie/axie-full-transparent.png',\n",
       "   'class': 'Dusk',\n",
       "   'name': 'Poison 99',\n",
       "   'genes': '0xa000000004c4444310a1094414a5294a1023084a08a228ca0442104414c2114c',\n",
       "   'birthDate': 1632774217,\n",
       "   'bodyShape': 'Normal',\n",
       "   'sireId': 6523136,\n",
       "   'sireClass': 'Dusk',\n",
       "   'matronId': 6523087,\n",
       "   'matronClass': 'Dusk',\n",
       "   'stage': 4,\n",
       "   'title': '',\n",
       "   'breedCount': 4,\n",
       "   'parts': [{'id': 'eyes-telescope',\n",
       "     'name': 'Telescope',\n",
       "     'class': 'Aquatic',\n",
       "     'type': 'Eyes',\n",
       "     'specialGenes': None,\n",
       "     'stage': 1,\n",
       "     '__typename': 'AxiePart'},\n",
       "    {'id': 'ears-nimo',\n",
       "     'name': 'Nimo',\n",
       "     'class': 'Aquatic',\n",
       "     'type': 'Ears',\n",
       "     'specialGenes': None,\n",
       "     'stage': 1,\n",
       "     '__typename': 'AxiePart'},\n",
       "    {'id': 'back-garish-worm',\n",
       "     'name': 'Garish Worm',\n",
       "     'class': 'Bug',\n",
       "     'type': 'Back',\n",
       "     'specialGenes': None,\n",
       "     'stage': 1,\n",
       "     '__typename': 'AxiePart'},\n",
       "    {'id': 'mouth-tiny-turtle',\n",
       "     'name': 'Tiny Turtle',\n",
       "     'class': 'Reptile',\n",
       "     'type': 'Mouth',\n",
       "     'specialGenes': None,\n",
       "     'stage': 1,\n",
       "     '__typename': 'AxiePart'},\n",
       "    {'id': 'horn-wing-horn',\n",
       "     'name': 'Wing Horn',\n",
       "     'class': 'Bird',\n",
       "     'type': 'Horn',\n",
       "     'specialGenes': None,\n",
       "     'stage': 1,\n",
       "     '__typename': 'AxiePart'},\n",
       "    {'id': 'tail-grass-snake',\n",
       "     'name': 'Grass Snake',\n",
       "     'class': 'Reptile',\n",
       "     'type': 'Tail',\n",
       "     'specialGenes': None,\n",
       "     'stage': 1,\n",
       "     '__typename': 'AxiePart'}],\n",
       "   'stats': {'hp': 52,\n",
       "    'speed': 50,\n",
       "    'skill': 27,\n",
       "    'morale': 35,\n",
       "    '__typename': 'AxieStats'},\n",
       "   'children': [{'id': '7173429',\n",
       "     'name': 'Abduls Poison',\n",
       "     'class': 'Dusk',\n",
       "     'image': 'https://storage.googleapis.com/assets.axieinfinity.com/axies/7173429/axie/axie-full-transparent.png',\n",
       "     'title': '',\n",
       "     'stage': 4,\n",
       "     '__typename': 'Axie'},\n",
       "    {'id': '7173467',\n",
       "     'name': 'RASTAMAN',\n",
       "     'class': 'Dusk',\n",
       "     'image': 'https://storage.googleapis.com/assets.axieinfinity.com/axies/7173467/axie/axie-full-transparent.png',\n",
       "     'title': '',\n",
       "     'stage': 4,\n",
       "     '__typename': 'Axie'},\n",
       "    {'id': '7173486',\n",
       "     'name': 'teal',\n",
       "     'class': 'Dusk',\n",
       "     'image': 'https://storage.googleapis.com/assets.axieinfinity.com/axies/7173486/axie/axie-full-transparent.png',\n",
       "     'title': '',\n",
       "     'stage': 4,\n",
       "     '__typename': 'Axie'},\n",
       "    {'id': '7173450',\n",
       "     'name': '⭐🦄 UNIQUE 🦄⭐',\n",
       "     'class': 'Dusk',\n",
       "     'image': 'https://storage.googleapis.com/assets.axieinfinity.com/axies/7173450/axie/axie-full-transparent.png',\n",
       "     'title': '',\n",
       "     'stage': 4,\n",
       "     '__typename': 'Axie'}],\n",
       "   '__typename': 'Axie'},\n",
       "  'axie3': {'id': '7371757',\n",
       "   'image': 'https://storage.googleapis.com/assets.axieinfinity.com/axies/7371757/axie/axie-full-transparent.png',\n",
       "   'class': 'Dusk',\n",
       "   'name': 'VeraWallet Giveaway 12',\n",
       "   'genes': '0xa00000003104134314202144142329421064184a1465190a0440204414c5314c',\n",
       "   'birthDate': 1633677216,\n",
       "   'bodyShape': 'BigYak',\n",
       "   'sireId': 7094439,\n",
       "   'sireClass': 'Dusk',\n",
       "   'matronId': 7093448,\n",
       "   'matronClass': 'Dusk',\n",
       "   'stage': 4,\n",
       "   'title': '',\n",
       "   'breedCount': 4,\n",
       "   'parts': [{'id': 'eyes-gecko',\n",
       "     'name': 'Gecko',\n",
       "     'class': 'Reptile',\n",
       "     'type': 'Eyes',\n",
       "     'specialGenes': None,\n",
       "     'stage': 1,\n",
       "     '__typename': 'AxiePart'},\n",
       "    {'id': 'ears-bubblemaker',\n",
       "     'name': 'Bubblemaker',\n",
       "     'class': 'Aquatic',\n",
       "     'type': 'Ears',\n",
       "     'specialGenes': None,\n",
       "     'stage': 1,\n",
       "     '__typename': 'AxiePart'},\n",
       "    {'id': 'back-garish-worm',\n",
       "     'name': 'Garish Worm',\n",
       "     'class': 'Bug',\n",
       "     'type': 'Back',\n",
       "     'specialGenes': None,\n",
       "     'stage': 1,\n",
       "     '__typename': 'AxiePart'},\n",
       "    {'id': 'mouth-toothless-bite',\n",
       "     'name': 'Toothless Bite',\n",
       "     'class': 'Reptile',\n",
       "     'type': 'Mouth',\n",
       "     'specialGenes': None,\n",
       "     'stage': 1,\n",
       "     '__typename': 'AxiePart'},\n",
       "    {'id': 'horn-cerastes',\n",
       "     'name': 'Cerastes',\n",
       "     'class': 'Reptile',\n",
       "     'type': 'Horn',\n",
       "     'specialGenes': None,\n",
       "     'stage': 1,\n",
       "     '__typename': 'AxiePart'},\n",
       "    {'id': 'tail-grass-snake',\n",
       "     'name': 'Grass Snake',\n",
       "     'class': 'Reptile',\n",
       "     'type': 'Tail',\n",
       "     'specialGenes': None,\n",
       "     'stage': 1,\n",
       "     '__typename': 'AxiePart'}],\n",
       "   'stats': {'hp': 57,\n",
       "    'speed': 46,\n",
       "    'skill': 27,\n",
       "    'morale': 34,\n",
       "    '__typename': 'AxieStats'},\n",
       "   'children': [{'id': '7647924',\n",
       "     'name': 'LH002A',\n",
       "     'class': 'Dusk',\n",
       "     'image': 'https://storage.googleapis.com/assets.axieinfinity.com/axies/7647924/axie/axie-full-transparent.png',\n",
       "     'title': '',\n",
       "     'stage': 4,\n",
       "     '__typename': 'Axie'},\n",
       "    {'id': '7647912',\n",
       "     'name': 'TOP 1 RANK META POISON',\n",
       "     'class': 'Dusk',\n",
       "     'image': 'https://storage.googleapis.com/assets.axieinfinity.com/axies/7647912/axie/axie-full-transparent.png',\n",
       "     'title': '',\n",
       "     'stage': 4,\n",
       "     '__typename': 'Axie'},\n",
       "    {'id': '7650366',\n",
       "     'name': 'IU is the best',\n",
       "     'class': 'Dusk',\n",
       "     'image': 'https://storage.googleapis.com/assets.axieinfinity.com/axies/7650366/axie/axie-full-transparent.png',\n",
       "     'title': '',\n",
       "     'stage': 4,\n",
       "     '__typename': 'Axie'},\n",
       "    {'id': '7650383',\n",
       "     'name': 'Axie #7650383',\n",
       "     'class': 'Dusk',\n",
       "     'image': 'https://storage.googleapis.com/assets.axieinfinity.com/axies/7650383/axie/axie-full-transparent.png',\n",
       "     'title': '',\n",
       "     'stage': 4,\n",
       "     '__typename': 'Axie'}],\n",
       "   '__typename': 'Axie'}}}"
      ]
     },
     "execution_count": 109,
     "metadata": {},
     "output_type": "execute_result"
    }
   ],
   "source": [
    "body = {\"operationName\":\"GetAxieDetail\",\"query\":\"query GetAxieDetail {\\naxie1: axie(axieId: 6050811) {\\n...AxieDetail\\n__typename\\n}\\n axie2: axie(axieId: 6850043) {\\n...AxieDetail\\n__typename\\n}\\n axie3: axie(axieId: 7371757) {\\n...AxieDetail\\n__typename\\n} \\n}\\nfragment AxieDetail on Axie {\\nid\\nimage\\nclass\\nname\\ngenes\\nbirthDate\\nbodyShape\\nsireId\\nsireClass\\nmatronId\\nmatronClass\\nstage\\ntitle\\nbreedCount\\nparts {\\n...AxiePart\\n__typename\\n}\\nstats {\\n...AxieStats\\n__typename\\n}\\nchildren {\\nid\\nname\\nclass\\nimage\\ntitle\\nstage\\n__typename\\n}\\n__typename\\n}\\n\\nfragment AxiePart on AxiePart {\\nid\\nname\\nclass\\ntype\\nspecialGenes\\nstage\\n__typename\\n}\\nfragment AxieStats on AxieStats {\\nhp\\nspeed\\nskill\\nmorale\\n__typename\\n}\"}\n",
    "url = \"https://axie.zone/func/proxy_graphql.php\"\n",
    "response = requests.post(url, json=body)\n",
    "json.loads(response.text)"
   ]
  },
  {
   "cell_type": "markdown",
   "metadata": {},
   "source": [
    "### Game API\n",
    "- SLP Claimed/Unclaimed"
   ]
  },
  {
   "cell_type": "code",
   "execution_count": 32,
   "metadata": {},
   "outputs": [],
   "source": [
    "import requests\n",
    "import json\n",
    "addr = \"0x01c3373edd0bf64db5cfceb2daef5cdb530d3fda\""
   ]
  },
  {
   "cell_type": "markdown",
   "metadata": {},
   "source": [
    "#### 1. Rapid API\n",
    "* [https://rapidapi.com/jchbasco/api/axie-infinity](https://rapidapi.com/jchbasco/api/axie-infinity)"
   ]
  },
  {
   "cell_type": "code",
   "execution_count": 20,
   "metadata": {},
   "outputs": [
    {
     "data": {
      "text/plain": [
       "[{'success': True,\n",
       "  'items': [],\n",
       "  'offset': 0,\n",
       "  'limit': 0,\n",
       "  'update_time': 1641786416302,\n",
       "  'notice': 'This is a BETA service. User beware.'}]"
      ]
     },
     "execution_count": 20,
     "metadata": {},
     "output_type": "execute_result"
    }
   ],
   "source": [
    "url = f\"https://axie-infinity.p.rapidapi.com/get-battle-log/{addr}\"\n",
    "headers = {\n",
    "    'x-rapidapi-host': \"axie-infinity.p.rapidapi.com\",\n",
    "    'x-rapidapi-key': \"c01d38970cmsh277dafda5ebc344p14edcdjsn5860e24202a7\"\n",
    "}\n",
    "response = requests.request(\"GET\", url, headers=headers)\n",
    "json.loads(response.text)"
   ]
  },
  {
   "cell_type": "markdown",
   "metadata": {},
   "source": [
    "#### 2. Axie Management"
   ]
  },
  {
   "cell_type": "code",
   "execution_count": 21,
   "metadata": {},
   "outputs": [
    {
     "data": {
      "text/plain": [
       "{'disclaimer': \"This is a private API if you want to use it, join our discord and we'll get some agreement\"}"
      ]
     },
     "execution_count": 21,
     "metadata": {},
     "output_type": "execute_result"
    }
   ],
   "source": [
    "url = f\"https://api.axie.management/v1/history/leaderboard/{addr}\"\n",
    "response = requests.request(\"GET\", url)\n",
    "json.loads(response.text)"
   ]
  },
  {
   "cell_type": "markdown",
   "metadata": {},
   "source": [
    "#### 3. Game API"
   ]
  },
  {
   "cell_type": "code",
   "execution_count": 118,
   "metadata": {},
   "outputs": [
    {
     "data": {
      "text/plain": [
       "{'success': True,\n",
       " 'cache_last_updated': 1641973270536,\n",
       " 'draw_total': 0,\n",
       " 'lose_total': 0,\n",
       " 'win_total': 0,\n",
       " 'total_matches': 0,\n",
       " 'win_rate': 0,\n",
       " 'mmr': 1431,\n",
       " 'rank': 254957,\n",
       " 'ronin_slp': 0,\n",
       " 'total_slp': 658,\n",
       " 'raw_total': 658,\n",
       " 'in_game_slp': 658,\n",
       " 'last_claim': 1641468571,\n",
       " 'lifetime_slp': 0,\n",
       " 'name': 'SAXIE #1',\n",
       " 'next_claim': 1642678171}"
      ]
     },
     "execution_count": 118,
     "metadata": {},
     "output_type": "execute_result"
    }
   ],
   "source": [
    "def get_game_cache(addr):\n",
    "    url = f\"https://game-api.axie.technology/api/v1/{addr}\"\n",
    "    response = requests.request(\"GET\", url)\n",
    "    return json.loads(response.text)\n",
    "get_game_cache(addr)"
   ]
  },
  {
   "cell_type": "code",
   "execution_count": 76,
   "metadata": {},
   "outputs": [
    {
     "data": {
      "text/plain": [
       "datetime.datetime(2022, 1, 12, 13, 8, 6)"
      ]
     },
     "execution_count": 76,
     "metadata": {},
     "output_type": "execute_result"
    }
   ],
   "source": [
    "datetime.fromtimestamp(1641960486359//1000)"
   ]
  },
  {
   "cell_type": "code",
   "execution_count": 75,
   "metadata": {},
   "outputs": [
    {
     "data": {
      "text/plain": [
       "{'success': True,\n",
       " 'cache_last_updated': 1641960486359,\n",
       " 'draw_total': 0,\n",
       " 'lose_total': 0,\n",
       " 'win_total': 0,\n",
       " 'total_matches': 0,\n",
       " 'win_rate': 0,\n",
       " 'mmr': 1123,\n",
       " 'rank': 1621156,\n",
       " 'ronin_slp': 0,\n",
       " 'total_slp': 90,\n",
       " 'raw_total': 90,\n",
       " 'in_game_slp': 90,\n",
       " 'last_claim': 1641872685,\n",
       " 'lifetime_slp': 0,\n",
       " 'name': 'SAXIE #6',\n",
       " 'next_claim': 1643082285}"
      ]
     },
     "execution_count": 75,
     "metadata": {},
     "output_type": "execute_result"
    }
   ],
   "source": [
    "addr2 = '0x19bab61497b9cbb4e1c154d2cc62e943ec282ba3'\n",
    "url = f\"https://game-api.axie.technology/api/v1/{addr2}\"\n",
    "response = requests.request(\"GET\", url)\n",
    "json.loads(response.text)"
   ]
  },
  {
   "cell_type": "markdown",
   "metadata": {},
   "source": [
    "#### 4. Get SLP history\n",
    "[https://axieandfriends.com/m/3ZYihTd2i/980618735](https://axieandfriends.com/m/3ZYihTd2i/980618735)"
   ]
  },
  {
   "cell_type": "code",
   "execution_count": 207,
   "metadata": {},
   "outputs": [
    {
     "data": {
      "text/plain": [
       "{'slp': {'total': 2629,\n",
       "  'claimableTotal': 0,\n",
       "  'lastClaimedItemAt': 1640925694,\n",
       "  'rawTotal': 30959,\n",
       "  'rawClaimableTotal': 28330,\n",
       "  'todaySoFar': 0,\n",
       "  'yesterdaySLP': 204,\n",
       "  'average': 223},\n",
       " 'leaderboard': {'winRate': '55',\n",
       "  'winTotal': 0,\n",
       "  'drawTotal': 0,\n",
       "  'loseTotal': 0,\n",
       "  'elo': 1605,\n",
       "  'rank': 67938,\n",
       "  'name': 'axie.com.ph - Nyrel'},\n",
       " 'adventure': {'gained_slp': 0, 'max_slp': 50}}"
      ]
     },
     "execution_count": 207,
     "metadata": {},
     "output_type": "execute_result"
    }
   ],
   "source": [
    "import requests\n",
    "\n",
    "url = \"https://axie-infinity.p.rapidapi.com/get-update/0x26d252724d08a30151ab5c87bd6b4fb5eadb1500\"\n",
    "\n",
    "querystring = {\"id\":\"0x26d252724d08a30151ab5c87bd6b4fb5eadb1500\"}\n",
    "\n",
    "headers = {\n",
    "    'x-rapidapi-host': \"axie-infinity.p.rapidapi.com\",\n",
    "    'x-rapidapi-key': \"c01d38970cmsh277dafda5ebc344p14edcdjsn5860e24202a7\"\n",
    "    }\n",
    "\n",
    "response = requests.request(\"GET\", url, headers=headers, params=querystring)\n",
    "json.loads(response.text)"
   ]
  },
  {
   "cell_type": "code",
   "execution_count": 51,
   "metadata": {},
   "outputs": [
    {
     "data": {
      "text/plain": [
       "{'disclaimer': \"This is a private API if you want to use it, join our discord and we'll get some agreement\"}"
      ]
     },
     "execution_count": 51,
     "metadata": {},
     "output_type": "execute_result"
    }
   ],
   "source": [
    "addr2 = '0xd92512a211795ed6937221db0f9480ca67c5f731'\n",
    "url = f\"https://api.axie.management/v1/history/leaderboard/{addr2}\"\n",
    "response = requests.request(\"GET\", url)\n",
    "json.loads(response.text)"
   ]
  },
  {
   "cell_type": "code",
   "execution_count": 144,
   "metadata": {},
   "outputs": [],
   "source": [
    "headers = {\n",
    "    \"User-Agent\": \"Mozilla/5.0 (Macintosh; Intel Mac OS X 10.15; rv:95.0) Gecko/20100101 Firefox/95.0\",\n",
    "    \"Accept\": \"*/*\",\n",
    "    \"Accept-Language\": \"ko-KR,ko;q=0.8,en-US;q=0.5,en;q=0.3\",\n",
    "    \"X-Requested-With\": \"XMLHttpRequest\",\n",
    "    \"Sec-Fetch-Dest\": \"empty\",\n",
    "    \"Sec-Fetch-Mode\": \"cors\",\n",
    "    \"Sec-Fetch-Site\": \"same-origin\",\n",
    "    \"Cache-Control\": \"max-age=0\"\n",
    "}"
   ]
  },
  {
   "cell_type": "code",
   "execution_count": 145,
   "metadata": {},
   "outputs": [
    {
     "data": {
      "text/plain": [
       "'Forbidden'"
      ]
     },
     "execution_count": 145,
     "metadata": {},
     "output_type": "execute_result"
    }
   ],
   "source": [
    "response = requests.request(\"GET\", 'https://axie.zone/func/profile_content.php?ron_addr=0xa5a2e67b6c70b879806a3eecedfa092109073f8e&authtoken=1ba16c58640ccda32bedff33bc9e9ade65d5d4e0a4589e64ceb9909b91f8e40cb9ecefc910bdd7b24528e513be558772bf4e55aaa02588750ae0381f3484635f', headers=headers)\n",
    "response.text"
   ]
  },
  {
   "cell_type": "code",
   "execution_count": null,
   "metadata": {},
   "outputs": [],
   "source": []
  }
 ],
 "metadata": {
  "kernelspec": {
   "display_name": "Python 3",
   "language": "python",
   "name": "python3"
  },
  "language_info": {
   "codemirror_mode": {
    "name": "ipython",
    "version": 3
   },
   "file_extension": ".py",
   "mimetype": "text/x-python",
   "name": "python",
   "nbconvert_exporter": "python",
   "pygments_lexer": "ipython3",
   "version": "3.7.6"
  }
 },
 "nbformat": 4,
 "nbformat_minor": 4
}
